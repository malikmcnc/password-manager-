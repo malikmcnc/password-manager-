{
 "cells": [
  {
   "cell_type": "code",
   "execution_count": null,
   "id": "9dda4a62",
   "metadata": {},
   "outputs": [],
   "source": [
    "def add_password(website, username, password):\n",
    "    \"\"\"Add a password entry into the database.\"\"\"\n",
    "    conn = sqlite3.connect(passmana)\n",
    "    cursor = conn.cursor()\n",
    "    try:\n",
    "        cursor.execute(\"INSERT INTO passwords (website, username, password) VALUES (?, ?, ?)\", (website, username, password))\n",
    "        connection.commit()\n",
    "    except:\n",
    "        return\n",
    "def main():\n",
    "    \n",
    "    \n",
    "    print(\"Select option: \")\n",
    "    print(\"1. Add password\")\n",
    "    print(\"2. View password\")\n",
    "    print()\n",
    "    choice = input(\"Select option: \")\n",
    "    \n",
    "    if choice == \"1\":\n",
    "        website = input(\"Enter website: \")\n",
    "        username = input(\"Enter username: \")\n",
    "        password = input(\"Enter password: \")\n",
    "        add_password(website, username, password)\n",
    "    elif choice == \"2\":\n",
    "        view_passwords()\n",
    "    else:\n",
    "        print(\"Invalid choice!\")\n",
    "\n",
    "main()"
   ]
  }
 ],
 "metadata": {
  "kernelspec": {
   "display_name": "Python 3 (ipykernel)",
   "language": "python",
   "name": "python3"
  },
  "language_info": {
   "codemirror_mode": {
    "name": "ipython",
    "version": 3
   },
   "file_extension": ".py",
   "mimetype": "text/x-python",
   "name": "python",
   "nbconvert_exporter": "python",
   "pygments_lexer": "ipython3",
   "version": "3.11.4"
  }
 },
 "nbformat": 4,
 "nbformat_minor": 5
}
